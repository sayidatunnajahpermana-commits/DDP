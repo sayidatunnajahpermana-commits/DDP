{
  "nbformat": 4,
  "nbformat_minor": 0,
  "metadata": {
    "colab": {
      "provenance": [],
      "authorship_tag": "ABX9TyOtTavdq35s6QhVl7PnCKYs",
      "include_colab_link": true
    },
    "kernelspec": {
      "name": "python3",
      "display_name": "Python 3"
    },
    "language_info": {
      "name": "python"
    }
  },
  "cells": [
    {
      "cell_type": "markdown",
      "metadata": {
        "id": "view-in-github",
        "colab_type": "text"
      },
      "source": [
        "<a href=\"https://colab.research.google.com/github/sayidatunnajahpermana-commits/DDP/blob/main/Praktikum6.ipynb\" target=\"_parent\"><img src=\"https://colab.research.google.com/assets/colab-badge.svg\" alt=\"Open In Colab\"/></a>"
      ]
    },
    {
      "cell_type": "code",
      "execution_count": null,
      "metadata": {
        "colab": {
          "base_uri": "https://localhost:8080/"
        },
        "id": "fpjFNBsC5y1H",
        "outputId": "4f391b78-1c93-4622-8bb2-6bfcbaf5b356"
      },
      "outputs": [
        {
          "output_type": "stream",
          "name": "stdout",
          "text": [
            "951\n",
            "651\n",
            "69\n",
            "319\n",
            "601\n",
            "485\n",
            "507\n",
            "725\n",
            "547\n",
            "615\n",
            "83\n",
            "165\n",
            "141\n",
            "501\n",
            "263\n",
            "617\n",
            "865\n",
            "575\n",
            "219\n",
            "105\n",
            "941\n",
            "47\n",
            "907\n",
            "375\n",
            "823\n",
            "597\n",
            "615\n",
            "953\n",
            "345\n",
            "399\n",
            "219\n",
            "237\n",
            "949\n",
            "687\n",
            "217\n",
            "815\n",
            "67\n",
            "767\n"
          ]
        }
      ],
      "source": [
        "# print semua bilangan ganjil dari list berikut,\n",
        "# hentikan perulangan ketika sudah melewati bilangan 553,\n",
        "# pakai perulangan while.\n",
        "\n",
        "\n",
        "numbers = [ 951, 402, 984, 651, 360, 69, 408, 319, 601, 485, 980, 507, 725,\n",
        "547, 544, 615, 83, 165, 141, 501, 263, 617, 865, 575, 219, 390,\n",
        "984, 592, 236, 105, 942, 941, 386, 462, 47, 418, 907, 344, 236,\n",
        "375, 823, 566, 597, 978, 328, 615, 953, 345, 399, 162, 758, 219,\n",
        "918, 237, 412, 566, 826, 248, 866, 950, 626, 949, 687, 217, 815,\n",
        "67, 104, 58, 512, 24, 892, 894, 767, 553, 81, 379, 843, 831, 445,\n",
        "742, 717, 958, 609, 842, 451, 688, 753, 854, 685, 93, 857, 440,\n",
        "380, 126, 721, 328, 753, 470, 743, 527 ]\n",
        "\n",
        "index = 0\n",
        "while index <=len(numbers):\n",
        " if numbers[index] == 553:\n",
        "  break\n",
        " if numbers[index] %2 == 1:\n",
        "  print(numbers[index])\n",
        " index += 1"
      ]
    },
    {
      "cell_type": "code",
      "source": [
        "# Buatlah output dari menggunakan bahasa pemrograman python dengan :\n",
        "# 1 + 3 + 5 + 7 + 9 + 11 + 13 + 15 + 17 + 19 =...\n",
        "\n",
        "jumlah = 0\n",
        "string = \"\"\n",
        "\n",
        "bilangan = 1\n",
        "while bilangan <=19:\n",
        " jumlah += bilangan\n",
        " string += str(bilangan)\n",
        " if bilangan <19:\n",
        "  string += \"+\"\n",
        " bilangan += 2\n",
        "print(string, \"=\", jumlah)"
      ],
      "metadata": {
        "colab": {
          "base_uri": "https://localhost:8080/"
        },
        "id": "ATi8Mxcm6Ymt",
        "outputId": "0d50afb1-b032-4e63-d5ce-8af2fa7ef4ed"
      },
      "execution_count": null,
      "outputs": [
        {
          "output_type": "stream",
          "name": "stdout",
          "text": [
            "1+3+5+7+9+11+13+15+17+19 = 100\n"
          ]
        }
      ]
    },
    {
      "cell_type": "code",
      "source": [
        "# Buat program untuk minta input jumlah baris\n",
        "# Buat rangkaian berikut ini\n",
        "# *\n",
        "# **\n",
        "# ***\n",
        "# ****\n",
        "\n",
        "baris = int(input(\"masukkan angka: \"))\n",
        "for i in range(1, baris +1):\n",
        " print(\"*\" *i)"
      ],
      "metadata": {
        "colab": {
          "base_uri": "https://localhost:8080/"
        },
        "id": "1cC80H1YFwl1",
        "outputId": "5bab1758-7fc5-44c2-8dcf-17a27f8580af"
      },
      "execution_count": 7,
      "outputs": [
        {
          "output_type": "stream",
          "name": "stdout",
          "text": [
            "masukkan angka: 7\n",
            "*\n",
            "**\n",
            "***\n",
            "****\n",
            "*****\n",
            "******\n",
            "*******\n"
          ]
        }
      ]
    }
  ]
}