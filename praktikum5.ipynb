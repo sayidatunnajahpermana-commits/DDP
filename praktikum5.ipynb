{
  "nbformat": 4,
  "nbformat_minor": 0,
  "metadata": {
    "colab": {
      "provenance": [],
      "authorship_tag": "ABX9TyN8BE39kk8BFSpf/pJYuAi4",
      "include_colab_link": true
    },
    "kernelspec": {
      "name": "python3",
      "display_name": "Python 3"
    },
    "language_info": {
      "name": "python"
    }
  },
  "cells": [
    {
      "cell_type": "markdown",
      "metadata": {
        "id": "view-in-github",
        "colab_type": "text"
      },
      "source": [
        "<a href=\"https://colab.research.google.com/github/sayidatunnajahpermana-commits/DDP/blob/main/praktikum5.ipynb\" target=\"_parent\"><img src=\"https://colab.research.google.com/assets/colab-badge.svg\" alt=\"Open In Colab\"/></a>"
      ]
    },
    {
      "cell_type": "code",
      "execution_count": 8,
      "metadata": {
        "colab": {
          "base_uri": "https://localhost:8080/"
        },
        "id": "UI9wd8pMzy2U",
        "outputId": "5e6fd563-f22a-4bdc-ec82-c56285ce2918"
      },
      "outputs": [
        {
          "output_type": "stream",
          "name": "stdout",
          "text": [
            "['Beat Ember', 'motor', 200, 'ungu', 3]\n",
            "['Beat Ember', 'motor', 200, 'ungu', 3, 5000, 'metic']\n",
            "['Beat Ember', 'motor', 'Honda', 200, 'ungu', 3, 5000, 'metic']\n"
          ]
        }
      ],
      "source": [
        "namaKendaraan = \"Beat Ember\"\n",
        "jenisKendaraan = \"motor\"\n",
        "ccKendaraan = 200\n",
        "warnaKendaraan = \"ungu\"\n",
        "rodaKendaraan = 3\n",
        "\n",
        "data_kendaraan = [\n",
        "    namaKendaraan, jenisKendaraan, ccKendaraan, warnaKendaraan, rodaKendaraan\n",
        "]\n",
        "print(data_kendaraan)\n",
        "\n",
        "hargaKendaraan = 5000\n",
        "tipeKendaraan = \"metic\"\n",
        "\n",
        "data_kendaraan.append(hargaKendaraan)\n",
        "data_kendaraan.append(tipeKendaraan)\n",
        "print(data_kendaraan)\n",
        "\n",
        "merkKendaraan = \"Honda\"\n",
        "data_kendaraan.insert(2, merkKendaraan)\n",
        "print(data_kendaraan)"
      ]
    },
    {
      "cell_type": "code",
      "source": [
        "pilihan = input(\"\"\"\n",
        "Silahkan pilih menu yang diinginkan\n",
        "===================================\n",
        "1. Luas Persegi\n",
        "2. Luas Lingkaran\n",
        "3. Luas Segitiga\n",
        "===================================\n",
        "Kirimkan hanya angka saja,\n",
        "jawaban = \"\"\")\n",
        "\n",
        "match pilihan:\n",
        "  case \"1\" :\n",
        "     sisi = int(input(\"sisi = \"))\n",
        "     luas = sisi*sisi\n",
        "\n",
        "     print(f\"luas persegi dengan sisi {sisi} adalah {luas}\")\n",
        "     # luas persegi\n",
        "  case \"2\" :\n",
        "     jarijari = int(input(\"jarijari = \"))\n",
        "     luas = 3.14 * jarijari**2\n",
        "\n",
        "     print(f\"luas lingkaran dengan jari jari {jarijari} adalah {luas}\")\n",
        "     # luas lingkaran\n",
        "     # phi * jarijari**2\n",
        "  case \"3\" :\n",
        "     alas = int(input(\"alas = \"))\n",
        "     tinggi = int(input(\"tinggi = \"))\n",
        "     luas = (alas * tinggi)/2\n",
        "\n",
        "     print(f\"luas segitiga dengan alas {alas} * tinggi {tinggi} /2 adalah {luas}\")\n",
        "     # luas segitiga\n",
        "  case _:\n",
        "     print(\"pilihan tidak tersedia\")"
      ],
      "metadata": {
        "colab": {
          "base_uri": "https://localhost:8080/"
        },
        "id": "fLuF_M9X9HqN",
        "outputId": "8e9389b5-1329-4819-8b9b-e62ec3541ba5"
      },
      "execution_count": 21,
      "outputs": [
        {
          "output_type": "stream",
          "name": "stdout",
          "text": [
            "\n",
            "Silahkan pilih menu yang diinginkan \n",
            "===================================\n",
            "1. Luas Persegi \n",
            "2. Luas Lingkaran \n",
            "3. Luas Segitiga \n",
            "===================================\n",
            "Kirimkan hanya angka saja,\n",
            "jawaban = 2\n",
            "jarijari = 10\n",
            "luas lingkaran dengan jari jari 10 adalah 314.0\n"
          ]
        }
      ]
    }
  ]
}